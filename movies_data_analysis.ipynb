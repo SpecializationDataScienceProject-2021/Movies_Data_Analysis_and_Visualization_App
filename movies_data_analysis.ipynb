{
 "cells": [
  {
   "cell_type": "code",
   "execution_count": 1,
   "metadata": {},
   "outputs": [],
   "source": [
    "import pandas as pd\r\n",
    "import datetime as dt\r\n",
    "import numpy as np\r\n",
    "import requests\r\n",
    "from requests_html import HTML\r\n",
    "import glob\r\n",
    "import warnings"
   ]
  },
  {
   "cell_type": "code",
   "execution_count": null,
   "metadata": {},
   "outputs": [],
   "source": [
    "omdburl = 'https://media.githubusercontent.com/media/SpecializationDataScienceProject-2021/Movies_Datasets/main/Data/omdb_movies_data.csv'"
   ]
  },
  {
   "cell_type": "code",
   "execution_count": 2,
   "metadata": {},
   "outputs": [
    {
     "data": {
      "text/html": [
       "<div>\n",
       "<style scoped>\n",
       "    .dataframe tbody tr th:only-of-type {\n",
       "        vertical-align: middle;\n",
       "    }\n",
       "\n",
       "    .dataframe tbody tr th {\n",
       "        vertical-align: top;\n",
       "    }\n",
       "\n",
       "    .dataframe thead th {\n",
       "        text-align: right;\n",
       "    }\n",
       "</style>\n",
       "<table border=\"1\" class=\"dataframe\">\n",
       "  <thead>\n",
       "    <tr style=\"text-align: right;\">\n",
       "      <th></th>\n",
       "      <th>Title</th>\n",
       "      <th>Year</th>\n",
       "      <th>Rated</th>\n",
       "      <th>Released</th>\n",
       "      <th>Runtime</th>\n",
       "      <th>Genre</th>\n",
       "      <th>Director</th>\n",
       "      <th>Writer</th>\n",
       "      <th>Actors</th>\n",
       "      <th>Plot</th>\n",
       "      <th>...</th>\n",
       "      <th>Metascore</th>\n",
       "      <th>imdbRating</th>\n",
       "      <th>imdbVotes</th>\n",
       "      <th>imdbID</th>\n",
       "      <th>Type</th>\n",
       "      <th>DVD</th>\n",
       "      <th>BoxOffice</th>\n",
       "      <th>Production</th>\n",
       "      <th>Website</th>\n",
       "      <th>Response</th>\n",
       "    </tr>\n",
       "  </thead>\n",
       "  <tbody>\n",
       "    <tr>\n",
       "      <th>0</th>\n",
       "      <td>Birmingham</td>\n",
       "      <td>1896.0</td>\n",
       "      <td>NaN</td>\n",
       "      <td>NaN</td>\n",
       "      <td>61 min</td>\n",
       "      <td>Documentary, Short</td>\n",
       "      <td>NaN</td>\n",
       "      <td>NaN</td>\n",
       "      <td>NaN</td>\n",
       "      <td>The most successful girl group of the Nineties...</td>\n",
       "      <td>...</td>\n",
       "      <td>NaN</td>\n",
       "      <td>NaN</td>\n",
       "      <td>NaN</td>\n",
       "      <td>tt2210499</td>\n",
       "      <td>movie</td>\n",
       "      <td>NaN</td>\n",
       "      <td>NaN</td>\n",
       "      <td>NaN</td>\n",
       "      <td>NaN</td>\n",
       "      <td>True</td>\n",
       "    </tr>\n",
       "    <tr>\n",
       "      <th>1</th>\n",
       "      <td>Reproduction of the Corbett and Fitzsimmons Fight</td>\n",
       "      <td>1897.0</td>\n",
       "      <td>NaN</td>\n",
       "      <td>NaN</td>\n",
       "      <td>60 min</td>\n",
       "      <td>News, Sport</td>\n",
       "      <td>NaN</td>\n",
       "      <td>NaN</td>\n",
       "      <td>NaN</td>\n",
       "      <td>NaN</td>\n",
       "      <td>...</td>\n",
       "      <td>NaN</td>\n",
       "      <td>3.7</td>\n",
       "      <td>27</td>\n",
       "      <td>tt0229676</td>\n",
       "      <td>movie</td>\n",
       "      <td>NaN</td>\n",
       "      <td>NaN</td>\n",
       "      <td>NaN</td>\n",
       "      <td>NaN</td>\n",
       "      <td>True</td>\n",
       "    </tr>\n",
       "    <tr>\n",
       "      <th>2</th>\n",
       "      <td>Dressing Paper Dolls</td>\n",
       "      <td>1898.0</td>\n",
       "      <td>NaN</td>\n",
       "      <td>01 Jul 1898</td>\n",
       "      <td>61 min</td>\n",
       "      <td>Documentary</td>\n",
       "      <td>NaN</td>\n",
       "      <td>NaN</td>\n",
       "      <td>NaN</td>\n",
       "      <td>NaN</td>\n",
       "      <td>...</td>\n",
       "      <td>NaN</td>\n",
       "      <td>NaN</td>\n",
       "      <td>NaN</td>\n",
       "      <td>tt0235357</td>\n",
       "      <td>movie</td>\n",
       "      <td>NaN</td>\n",
       "      <td>NaN</td>\n",
       "      <td>NaN</td>\n",
       "      <td>NaN</td>\n",
       "      <td>True</td>\n",
       "    </tr>\n",
       "    <tr>\n",
       "      <th>3</th>\n",
       "      <td>Buck Dance, Ute Indians</td>\n",
       "      <td>1898.0</td>\n",
       "      <td>NaN</td>\n",
       "      <td>01 Feb 1898</td>\n",
       "      <td>60 min</td>\n",
       "      <td>Documentary</td>\n",
       "      <td>James H. White</td>\n",
       "      <td>NaN</td>\n",
       "      <td>NaN</td>\n",
       "      <td>NaN</td>\n",
       "      <td>...</td>\n",
       "      <td>NaN</td>\n",
       "      <td>NaN</td>\n",
       "      <td>NaN</td>\n",
       "      <td>tt0221040</td>\n",
       "      <td>movie</td>\n",
       "      <td>NaN</td>\n",
       "      <td>NaN</td>\n",
       "      <td>NaN</td>\n",
       "      <td>NaN</td>\n",
       "      <td>True</td>\n",
       "    </tr>\n",
       "    <tr>\n",
       "      <th>4</th>\n",
       "      <td>69th Regiment Passing in Review</td>\n",
       "      <td>1898.0</td>\n",
       "      <td>NaN</td>\n",
       "      <td>01 Jul 1898</td>\n",
       "      <td>61 min</td>\n",
       "      <td>Documentary</td>\n",
       "      <td>NaN</td>\n",
       "      <td>NaN</td>\n",
       "      <td>NaN</td>\n",
       "      <td>\"This well-known regiment of New York City mil...</td>\n",
       "      <td>...</td>\n",
       "      <td>NaN</td>\n",
       "      <td>NaN</td>\n",
       "      <td>NaN</td>\n",
       "      <td>tt0236940</td>\n",
       "      <td>movie</td>\n",
       "      <td>NaN</td>\n",
       "      <td>NaN</td>\n",
       "      <td>NaN</td>\n",
       "      <td>NaN</td>\n",
       "      <td>True</td>\n",
       "    </tr>\n",
       "  </tbody>\n",
       "</table>\n",
       "<p>5 rows × 25 columns</p>\n",
       "</div>"
      ],
      "text/plain": [
       "                                               Title    Year Rated  \\\n",
       "0                                         Birmingham  1896.0   NaN   \n",
       "1  Reproduction of the Corbett and Fitzsimmons Fight  1897.0   NaN   \n",
       "2                               Dressing Paper Dolls  1898.0   NaN   \n",
       "3                            Buck Dance, Ute Indians  1898.0   NaN   \n",
       "4                    69th Regiment Passing in Review  1898.0   NaN   \n",
       "\n",
       "      Released Runtime               Genre        Director Writer Actors  \\\n",
       "0          NaN  61 min  Documentary, Short             NaN    NaN    NaN   \n",
       "1          NaN  60 min         News, Sport             NaN    NaN    NaN   \n",
       "2  01 Jul 1898  61 min         Documentary             NaN    NaN    NaN   \n",
       "3  01 Feb 1898  60 min         Documentary  James H. White    NaN    NaN   \n",
       "4  01 Jul 1898  61 min         Documentary             NaN    NaN    NaN   \n",
       "\n",
       "                                                Plot  ... Metascore  \\\n",
       "0  The most successful girl group of the Nineties...  ...       NaN   \n",
       "1                                                NaN  ...       NaN   \n",
       "2                                                NaN  ...       NaN   \n",
       "3                                                NaN  ...       NaN   \n",
       "4  \"This well-known regiment of New York City mil...  ...       NaN   \n",
       "\n",
       "  imdbRating imdbVotes     imdbID   Type  DVD  BoxOffice Production Website  \\\n",
       "0        NaN       NaN  tt2210499  movie  NaN        NaN        NaN     NaN   \n",
       "1        3.7        27  tt0229676  movie  NaN        NaN        NaN     NaN   \n",
       "2        NaN       NaN  tt0235357  movie  NaN        NaN        NaN     NaN   \n",
       "3        NaN       NaN  tt0221040  movie  NaN        NaN        NaN     NaN   \n",
       "4        NaN       NaN  tt0236940  movie  NaN        NaN        NaN     NaN   \n",
       "\n",
       "  Response  \n",
       "0     True  \n",
       "1     True  \n",
       "2     True  \n",
       "3     True  \n",
       "4     True  \n",
       "\n",
       "[5 rows x 25 columns]"
      ]
     },
     "execution_count": 2,
     "metadata": {},
     "output_type": "execute_result"
    }
   ],
   "source": [
    "df = pd.read_csv(omdburl, low_memory=False)\r\n",
    "df.head()"
   ]
  },
  {
   "cell_type": "code",
   "execution_count": 3,
   "metadata": {},
   "outputs": [
    {
     "name": "stdout",
     "output_type": "stream",
     "text": [
      "(458459, 25)\n",
      "(438120, 25)\n"
     ]
    }
   ],
   "source": [
    "print(df.shape)\n",
    "df = df.drop_duplicates()\n",
    "print(df.shape)"
   ]
  },
  {
   "cell_type": "code",
   "execution_count": 4,
   "metadata": {},
   "outputs": [
    {
     "data": {
      "text/html": [
       "<div>\n",
       "<style scoped>\n",
       "    .dataframe tbody tr th:only-of-type {\n",
       "        vertical-align: middle;\n",
       "    }\n",
       "\n",
       "    .dataframe tbody tr th {\n",
       "        vertical-align: top;\n",
       "    }\n",
       "\n",
       "    .dataframe thead th {\n",
       "        text-align: right;\n",
       "    }\n",
       "</style>\n",
       "<table border=\"1\" class=\"dataframe\">\n",
       "  <thead>\n",
       "    <tr style=\"text-align: right;\">\n",
       "      <th></th>\n",
       "      <th>Title</th>\n",
       "      <th>Year</th>\n",
       "      <th>Rated</th>\n",
       "      <th>Released</th>\n",
       "      <th>Runtime</th>\n",
       "      <th>Genre</th>\n",
       "      <th>Director</th>\n",
       "      <th>Writer</th>\n",
       "      <th>Actors</th>\n",
       "      <th>Plot</th>\n",
       "      <th>...</th>\n",
       "      <th>Metascore</th>\n",
       "      <th>Rating</th>\n",
       "      <th>Votes</th>\n",
       "      <th>IMDB ID</th>\n",
       "      <th>Type</th>\n",
       "      <th>DVD</th>\n",
       "      <th>BoxOffice</th>\n",
       "      <th>Production</th>\n",
       "      <th>Website</th>\n",
       "      <th>Response</th>\n",
       "    </tr>\n",
       "  </thead>\n",
       "  <tbody>\n",
       "    <tr>\n",
       "      <th>0</th>\n",
       "      <td>Birmingham</td>\n",
       "      <td>1896.0</td>\n",
       "      <td>NaN</td>\n",
       "      <td>NaN</td>\n",
       "      <td>61 min</td>\n",
       "      <td>Documentary, Short</td>\n",
       "      <td>NaN</td>\n",
       "      <td>NaN</td>\n",
       "      <td>NaN</td>\n",
       "      <td>The most successful girl group of the Nineties...</td>\n",
       "      <td>...</td>\n",
       "      <td>NaN</td>\n",
       "      <td>NaN</td>\n",
       "      <td>NaN</td>\n",
       "      <td>tt2210499</td>\n",
       "      <td>movie</td>\n",
       "      <td>NaN</td>\n",
       "      <td>NaN</td>\n",
       "      <td>NaN</td>\n",
       "      <td>NaN</td>\n",
       "      <td>True</td>\n",
       "    </tr>\n",
       "    <tr>\n",
       "      <th>1</th>\n",
       "      <td>Reproduction of the Corbett and Fitzsimmons Fight</td>\n",
       "      <td>1897.0</td>\n",
       "      <td>NaN</td>\n",
       "      <td>NaN</td>\n",
       "      <td>60 min</td>\n",
       "      <td>News, Sport</td>\n",
       "      <td>NaN</td>\n",
       "      <td>NaN</td>\n",
       "      <td>NaN</td>\n",
       "      <td>NaN</td>\n",
       "      <td>...</td>\n",
       "      <td>NaN</td>\n",
       "      <td>3.7</td>\n",
       "      <td>27</td>\n",
       "      <td>tt0229676</td>\n",
       "      <td>movie</td>\n",
       "      <td>NaN</td>\n",
       "      <td>NaN</td>\n",
       "      <td>NaN</td>\n",
       "      <td>NaN</td>\n",
       "      <td>True</td>\n",
       "    </tr>\n",
       "    <tr>\n",
       "      <th>2</th>\n",
       "      <td>Dressing Paper Dolls</td>\n",
       "      <td>1898.0</td>\n",
       "      <td>NaN</td>\n",
       "      <td>01 Jul 1898</td>\n",
       "      <td>61 min</td>\n",
       "      <td>Documentary</td>\n",
       "      <td>NaN</td>\n",
       "      <td>NaN</td>\n",
       "      <td>NaN</td>\n",
       "      <td>NaN</td>\n",
       "      <td>...</td>\n",
       "      <td>NaN</td>\n",
       "      <td>NaN</td>\n",
       "      <td>NaN</td>\n",
       "      <td>tt0235357</td>\n",
       "      <td>movie</td>\n",
       "      <td>NaN</td>\n",
       "      <td>NaN</td>\n",
       "      <td>NaN</td>\n",
       "      <td>NaN</td>\n",
       "      <td>True</td>\n",
       "    </tr>\n",
       "    <tr>\n",
       "      <th>3</th>\n",
       "      <td>Buck Dance, Ute Indians</td>\n",
       "      <td>1898.0</td>\n",
       "      <td>NaN</td>\n",
       "      <td>01 Feb 1898</td>\n",
       "      <td>60 min</td>\n",
       "      <td>Documentary</td>\n",
       "      <td>James H. White</td>\n",
       "      <td>NaN</td>\n",
       "      <td>NaN</td>\n",
       "      <td>NaN</td>\n",
       "      <td>...</td>\n",
       "      <td>NaN</td>\n",
       "      <td>NaN</td>\n",
       "      <td>NaN</td>\n",
       "      <td>tt0221040</td>\n",
       "      <td>movie</td>\n",
       "      <td>NaN</td>\n",
       "      <td>NaN</td>\n",
       "      <td>NaN</td>\n",
       "      <td>NaN</td>\n",
       "      <td>True</td>\n",
       "    </tr>\n",
       "    <tr>\n",
       "      <th>4</th>\n",
       "      <td>69th Regiment Passing in Review</td>\n",
       "      <td>1898.0</td>\n",
       "      <td>NaN</td>\n",
       "      <td>01 Jul 1898</td>\n",
       "      <td>61 min</td>\n",
       "      <td>Documentary</td>\n",
       "      <td>NaN</td>\n",
       "      <td>NaN</td>\n",
       "      <td>NaN</td>\n",
       "      <td>\"This well-known regiment of New York City mil...</td>\n",
       "      <td>...</td>\n",
       "      <td>NaN</td>\n",
       "      <td>NaN</td>\n",
       "      <td>NaN</td>\n",
       "      <td>tt0236940</td>\n",
       "      <td>movie</td>\n",
       "      <td>NaN</td>\n",
       "      <td>NaN</td>\n",
       "      <td>NaN</td>\n",
       "      <td>NaN</td>\n",
       "      <td>True</td>\n",
       "    </tr>\n",
       "  </tbody>\n",
       "</table>\n",
       "<p>5 rows × 25 columns</p>\n",
       "</div>"
      ],
      "text/plain": [
       "                                               Title    Year Rated  \\\n",
       "0                                         Birmingham  1896.0   NaN   \n",
       "1  Reproduction of the Corbett and Fitzsimmons Fight  1897.0   NaN   \n",
       "2                               Dressing Paper Dolls  1898.0   NaN   \n",
       "3                            Buck Dance, Ute Indians  1898.0   NaN   \n",
       "4                    69th Regiment Passing in Review  1898.0   NaN   \n",
       "\n",
       "      Released Runtime               Genre        Director Writer Actors  \\\n",
       "0          NaN  61 min  Documentary, Short             NaN    NaN    NaN   \n",
       "1          NaN  60 min         News, Sport             NaN    NaN    NaN   \n",
       "2  01 Jul 1898  61 min         Documentary             NaN    NaN    NaN   \n",
       "3  01 Feb 1898  60 min         Documentary  James H. White    NaN    NaN   \n",
       "4  01 Jul 1898  61 min         Documentary             NaN    NaN    NaN   \n",
       "\n",
       "                                                Plot  ... Metascore Rating  \\\n",
       "0  The most successful girl group of the Nineties...  ...       NaN    NaN   \n",
       "1                                                NaN  ...       NaN    3.7   \n",
       "2                                                NaN  ...       NaN    NaN   \n",
       "3                                                NaN  ...       NaN    NaN   \n",
       "4  \"This well-known regiment of New York City mil...  ...       NaN    NaN   \n",
       "\n",
       "  Votes    IMDB ID   Type  DVD  BoxOffice Production Website Response  \n",
       "0   NaN  tt2210499  movie  NaN        NaN        NaN     NaN     True  \n",
       "1    27  tt0229676  movie  NaN        NaN        NaN     NaN     True  \n",
       "2   NaN  tt0235357  movie  NaN        NaN        NaN     NaN     True  \n",
       "3   NaN  tt0221040  movie  NaN        NaN        NaN     NaN     True  \n",
       "4   NaN  tt0236940  movie  NaN        NaN        NaN     NaN     True  \n",
       "\n",
       "[5 rows x 25 columns]"
      ]
     },
     "execution_count": 4,
     "metadata": {},
     "output_type": "execute_result"
    }
   ],
   "source": [
    "df = df.rename(columns={'imdbID':'IMDB ID','imdbRating':'Rating','imdbVotes':'Votes'})\r\n",
    "df.head()"
   ]
  },
  {
   "cell_type": "code",
   "execution_count": 5,
   "metadata": {},
   "outputs": [
    {
     "data": {
      "text/plain": [
       "Title          object\n",
       "Year          float64\n",
       "Rated          object\n",
       "Released       object\n",
       "Runtime        object\n",
       "Genre          object\n",
       "Director       object\n",
       "Writer         object\n",
       "Actors         object\n",
       "Plot           object\n",
       "Language       object\n",
       "Country        object\n",
       "Awards         object\n",
       "Poster         object\n",
       "Ratings        object\n",
       "Metascore     float64\n",
       "Rating        float64\n",
       "Votes          object\n",
       "IMDB ID        object\n",
       "Type           object\n",
       "DVD            object\n",
       "BoxOffice      object\n",
       "Production     object\n",
       "Website        object\n",
       "Response       object\n",
       "dtype: object"
      ]
     },
     "execution_count": 5,
     "metadata": {},
     "output_type": "execute_result"
    }
   ],
   "source": [
    "df.dtypes"
   ]
  },
  {
   "cell_type": "markdown",
   "metadata": {},
   "source": [
    "Release date"
   ]
  },
  {
   "cell_type": "code",
   "execution_count": 6,
   "metadata": {},
   "outputs": [
    {
     "data": {
      "text/plain": [
       "0          NaT\n",
       "1          NaT\n",
       "2   1898-07-01\n",
       "3   1898-02-01\n",
       "4   1898-07-01\n",
       "Name: Released, dtype: datetime64[ns]"
      ]
     },
     "execution_count": 6,
     "metadata": {},
     "output_type": "execute_result"
    }
   ],
   "source": [
    "df['Released']=pd.to_datetime(df['Released'])\r\n",
    "df['Released'].head()"
   ]
  },
  {
   "cell_type": "code",
   "execution_count": 7,
   "metadata": {},
   "outputs": [],
   "source": [
    "rdate = pd.DataFrame()"
   ]
  },
  {
   "cell_type": "code",
   "execution_count": 8,
   "metadata": {},
   "outputs": [
    {
     "name": "stdout",
     "output_type": "stream",
     "text": [
      "   Month Monthname  Day  Weekday\n",
      "0    NaN       NaN  NaN      NaN\n",
      "1    NaN       NaN  NaN      NaN\n",
      "2    7.0      July  1.0   Friday\n",
      "3    2.0  February  1.0  Tuesday\n",
      "4    7.0      July  1.0   Friday\n",
      "-------------\n",
      "                                               Title    Year Rated   Released  \\\n",
      "0                                         Birmingham  1896.0   NaN        NaT   \n",
      "1  Reproduction of the Corbett and Fitzsimmons Fight  1897.0   NaN        NaT   \n",
      "2                               Dressing Paper Dolls  1898.0   NaN 1898-07-01   \n",
      "3                            Buck Dance, Ute Indians  1898.0   NaN 1898-02-01   \n",
      "4                    69th Regiment Passing in Review  1898.0   NaN 1898-07-01   \n",
      "\n",
      "  Runtime               Genre        Director Writer Actors  \\\n",
      "0  61 min  Documentary, Short             NaN    NaN    NaN   \n",
      "1  60 min         News, Sport             NaN    NaN    NaN   \n",
      "2  61 min         Documentary             NaN    NaN    NaN   \n",
      "3  60 min         Documentary  James H. White    NaN    NaN   \n",
      "4  61 min         Documentary             NaN    NaN    NaN   \n",
      "\n",
      "                                                Plot  ...   Type  DVD  \\\n",
      "0  The most successful girl group of the Nineties...  ...  movie  NaN   \n",
      "1                                                NaN  ...  movie  NaN   \n",
      "2                                                NaN  ...  movie  NaN   \n",
      "3                                                NaN  ...  movie  NaN   \n",
      "4  \"This well-known regiment of New York City mil...  ...  movie  NaN   \n",
      "\n",
      "  BoxOffice Production Website  Response  Month Monthname  Day  Weekday  \n",
      "0       NaN        NaN     NaN      True    NaN       NaN  NaN      NaN  \n",
      "1       NaN        NaN     NaN      True    NaN       NaN  NaN      NaN  \n",
      "2       NaN        NaN     NaN      True    7.0      July  1.0   Friday  \n",
      "3       NaN        NaN     NaN      True    2.0  February  1.0  Tuesday  \n",
      "4       NaN        NaN     NaN      True    7.0      July  1.0   Friday  \n",
      "\n",
      "[5 rows x 29 columns]\n"
     ]
    }
   ],
   "source": [
    "rdate['Month'] = df['Released'].dt.month \r\n",
    "rdate['Monthname']= df['Released'].dt.strftime(\"%B\")\r\n",
    "rdate['Day'] = df['Released'].dt.day\r\n",
    "rdate['Weekday']= df['Released'].dt.day_name()\r\n",
    "print(rdate.head())\r\n",
    "df = df.join(rdate)\r\n",
    "print(\"-------------\")\r\n",
    "print(df.head())"
   ]
  },
  {
   "cell_type": "code",
   "execution_count": 9,
   "metadata": {},
   "outputs": [
    {
     "data": {
      "text/plain": [
       "Title                 object\n",
       "Year                 float64\n",
       "Rated                 object\n",
       "Released      datetime64[ns]\n",
       "Runtime               object\n",
       "Genre                 object\n",
       "Director              object\n",
       "Writer                object\n",
       "Actors                object\n",
       "Plot                  object\n",
       "Language              object\n",
       "Country               object\n",
       "Awards                object\n",
       "Poster                object\n",
       "Ratings               object\n",
       "Metascore            float64\n",
       "Rating               float64\n",
       "Votes                 object\n",
       "IMDB ID               object\n",
       "Type                  object\n",
       "DVD                   object\n",
       "BoxOffice             object\n",
       "Production            object\n",
       "Website               object\n",
       "Response              object\n",
       "Month                float64\n",
       "Monthname             object\n",
       "Day                  float64\n",
       "Weekday               object\n",
       "dtype: object"
      ]
     },
     "execution_count": 9,
     "metadata": {},
     "output_type": "execute_result"
    }
   ],
   "source": [
    "df.dtypes"
   ]
  },
  {
   "cell_type": "code",
   "execution_count": 10,
   "metadata": {},
   "outputs": [
    {
     "data": {
      "text/html": [
       "<div>\n",
       "<style scoped>\n",
       "    .dataframe tbody tr th:only-of-type {\n",
       "        vertical-align: middle;\n",
       "    }\n",
       "\n",
       "    .dataframe tbody tr th {\n",
       "        vertical-align: top;\n",
       "    }\n",
       "\n",
       "    .dataframe thead th {\n",
       "        text-align: right;\n",
       "    }\n",
       "</style>\n",
       "<table border=\"1\" class=\"dataframe\">\n",
       "  <thead>\n",
       "    <tr style=\"text-align: right;\">\n",
       "      <th></th>\n",
       "      <th>Title</th>\n",
       "      <th>Year</th>\n",
       "      <th>Rated</th>\n",
       "      <th>Released</th>\n",
       "      <th>Runtime</th>\n",
       "      <th>Genre</th>\n",
       "      <th>Director</th>\n",
       "      <th>Writer</th>\n",
       "      <th>Actors</th>\n",
       "      <th>Plot</th>\n",
       "      <th>...</th>\n",
       "      <th>DVD</th>\n",
       "      <th>BoxOffice</th>\n",
       "      <th>Production</th>\n",
       "      <th>Website</th>\n",
       "      <th>Response</th>\n",
       "      <th>Month</th>\n",
       "      <th>Monthname</th>\n",
       "      <th>Day</th>\n",
       "      <th>Weekday</th>\n",
       "      <th>Duration</th>\n",
       "    </tr>\n",
       "  </thead>\n",
       "  <tbody>\n",
       "    <tr>\n",
       "      <th>0</th>\n",
       "      <td>Birmingham</td>\n",
       "      <td>1896.0</td>\n",
       "      <td>NaN</td>\n",
       "      <td>NaT</td>\n",
       "      <td>61 min</td>\n",
       "      <td>Documentary, Short</td>\n",
       "      <td>NaN</td>\n",
       "      <td>NaN</td>\n",
       "      <td>NaN</td>\n",
       "      <td>The most successful girl group of the Nineties...</td>\n",
       "      <td>...</td>\n",
       "      <td>NaN</td>\n",
       "      <td>NaN</td>\n",
       "      <td>NaN</td>\n",
       "      <td>NaN</td>\n",
       "      <td>True</td>\n",
       "      <td>NaN</td>\n",
       "      <td>NaN</td>\n",
       "      <td>NaN</td>\n",
       "      <td>NaN</td>\n",
       "      <td>61</td>\n",
       "    </tr>\n",
       "    <tr>\n",
       "      <th>1</th>\n",
       "      <td>Reproduction of the Corbett and Fitzsimmons Fight</td>\n",
       "      <td>1897.0</td>\n",
       "      <td>NaN</td>\n",
       "      <td>NaT</td>\n",
       "      <td>60 min</td>\n",
       "      <td>News, Sport</td>\n",
       "      <td>NaN</td>\n",
       "      <td>NaN</td>\n",
       "      <td>NaN</td>\n",
       "      <td>NaN</td>\n",
       "      <td>...</td>\n",
       "      <td>NaN</td>\n",
       "      <td>NaN</td>\n",
       "      <td>NaN</td>\n",
       "      <td>NaN</td>\n",
       "      <td>True</td>\n",
       "      <td>NaN</td>\n",
       "      <td>NaN</td>\n",
       "      <td>NaN</td>\n",
       "      <td>NaN</td>\n",
       "      <td>60</td>\n",
       "    </tr>\n",
       "    <tr>\n",
       "      <th>2</th>\n",
       "      <td>Dressing Paper Dolls</td>\n",
       "      <td>1898.0</td>\n",
       "      <td>NaN</td>\n",
       "      <td>1898-07-01</td>\n",
       "      <td>61 min</td>\n",
       "      <td>Documentary</td>\n",
       "      <td>NaN</td>\n",
       "      <td>NaN</td>\n",
       "      <td>NaN</td>\n",
       "      <td>NaN</td>\n",
       "      <td>...</td>\n",
       "      <td>NaN</td>\n",
       "      <td>NaN</td>\n",
       "      <td>NaN</td>\n",
       "      <td>NaN</td>\n",
       "      <td>True</td>\n",
       "      <td>7.0</td>\n",
       "      <td>July</td>\n",
       "      <td>1.0</td>\n",
       "      <td>Friday</td>\n",
       "      <td>61</td>\n",
       "    </tr>\n",
       "    <tr>\n",
       "      <th>3</th>\n",
       "      <td>Buck Dance, Ute Indians</td>\n",
       "      <td>1898.0</td>\n",
       "      <td>NaN</td>\n",
       "      <td>1898-02-01</td>\n",
       "      <td>60 min</td>\n",
       "      <td>Documentary</td>\n",
       "      <td>James H. White</td>\n",
       "      <td>NaN</td>\n",
       "      <td>NaN</td>\n",
       "      <td>NaN</td>\n",
       "      <td>...</td>\n",
       "      <td>NaN</td>\n",
       "      <td>NaN</td>\n",
       "      <td>NaN</td>\n",
       "      <td>NaN</td>\n",
       "      <td>True</td>\n",
       "      <td>2.0</td>\n",
       "      <td>February</td>\n",
       "      <td>1.0</td>\n",
       "      <td>Tuesday</td>\n",
       "      <td>60</td>\n",
       "    </tr>\n",
       "    <tr>\n",
       "      <th>4</th>\n",
       "      <td>69th Regiment Passing in Review</td>\n",
       "      <td>1898.0</td>\n",
       "      <td>NaN</td>\n",
       "      <td>1898-07-01</td>\n",
       "      <td>61 min</td>\n",
       "      <td>Documentary</td>\n",
       "      <td>NaN</td>\n",
       "      <td>NaN</td>\n",
       "      <td>NaN</td>\n",
       "      <td>\"This well-known regiment of New York City mil...</td>\n",
       "      <td>...</td>\n",
       "      <td>NaN</td>\n",
       "      <td>NaN</td>\n",
       "      <td>NaN</td>\n",
       "      <td>NaN</td>\n",
       "      <td>True</td>\n",
       "      <td>7.0</td>\n",
       "      <td>July</td>\n",
       "      <td>1.0</td>\n",
       "      <td>Friday</td>\n",
       "      <td>61</td>\n",
       "    </tr>\n",
       "  </tbody>\n",
       "</table>\n",
       "<p>5 rows × 30 columns</p>\n",
       "</div>"
      ],
      "text/plain": [
       "                                               Title    Year Rated   Released  \\\n",
       "0                                         Birmingham  1896.0   NaN        NaT   \n",
       "1  Reproduction of the Corbett and Fitzsimmons Fight  1897.0   NaN        NaT   \n",
       "2                               Dressing Paper Dolls  1898.0   NaN 1898-07-01   \n",
       "3                            Buck Dance, Ute Indians  1898.0   NaN 1898-02-01   \n",
       "4                    69th Regiment Passing in Review  1898.0   NaN 1898-07-01   \n",
       "\n",
       "  Runtime               Genre        Director Writer Actors  \\\n",
       "0  61 min  Documentary, Short             NaN    NaN    NaN   \n",
       "1  60 min         News, Sport             NaN    NaN    NaN   \n",
       "2  61 min         Documentary             NaN    NaN    NaN   \n",
       "3  60 min         Documentary  James H. White    NaN    NaN   \n",
       "4  61 min         Documentary             NaN    NaN    NaN   \n",
       "\n",
       "                                                Plot  ...  DVD BoxOffice  \\\n",
       "0  The most successful girl group of the Nineties...  ...  NaN       NaN   \n",
       "1                                                NaN  ...  NaN       NaN   \n",
       "2                                                NaN  ...  NaN       NaN   \n",
       "3                                                NaN  ...  NaN       NaN   \n",
       "4  \"This well-known regiment of New York City mil...  ...  NaN       NaN   \n",
       "\n",
       "  Production Website Response  Month  Monthname  Day  Weekday Duration  \n",
       "0        NaN     NaN     True    NaN        NaN  NaN      NaN       61  \n",
       "1        NaN     NaN     True    NaN        NaN  NaN      NaN       60  \n",
       "2        NaN     NaN     True    7.0       July  1.0   Friday       61  \n",
       "3        NaN     NaN     True    2.0   February  1.0  Tuesday       60  \n",
       "4        NaN     NaN     True    7.0       July  1.0   Friday       61  \n",
       "\n",
       "[5 rows x 30 columns]"
      ]
     },
     "execution_count": 10,
     "metadata": {},
     "output_type": "execute_result"
    }
   ],
   "source": [
    "df2 = df['Runtime'].str.split(n=1, expand=True)\r\n",
    "df2.columns = ['Runtime{}'.format(x+1) for x in df2.columns]\r\n",
    "df2 = df2.rename(columns={'Runtime1':\"Duration\"})\r\n",
    "df2 = df2.drop(columns = ['Runtime2'])\r\n",
    "df = df.join(df2)\r\n",
    "df.head(5)"
   ]
  },
  {
   "cell_type": "code",
   "execution_count": 11,
   "metadata": {},
   "outputs": [],
   "source": [
    "df = df.drop(columns=['Rated','Writer','DVD','Plot','Website','Runtime','Response', 'Metascore', 'Ratings', 'Type', 'Awards'])"
   ]
  },
  {
   "cell_type": "markdown",
   "metadata": {},
   "source": [
    "Removing null values"
   ]
  },
  {
   "cell_type": "code",
   "execution_count": 12,
   "metadata": {},
   "outputs": [
    {
     "data": {
      "text/plain": [
       "(438120, 19)"
      ]
     },
     "execution_count": 12,
     "metadata": {},
     "output_type": "execute_result"
    }
   ],
   "source": [
    "df.shape"
   ]
  },
  {
   "cell_type": "code",
   "execution_count": 13,
   "metadata": {},
   "outputs": [
    {
     "data": {
      "text/plain": [
       "Title                 object\n",
       "Year                 float64\n",
       "Released      datetime64[ns]\n",
       "Genre                 object\n",
       "Director              object\n",
       "Actors                object\n",
       "Language              object\n",
       "Country               object\n",
       "Poster                object\n",
       "Rating               float64\n",
       "Votes                 object\n",
       "IMDB ID               object\n",
       "BoxOffice             object\n",
       "Production            object\n",
       "Month                float64\n",
       "Monthname             object\n",
       "Day                  float64\n",
       "Weekday               object\n",
       "Duration              object\n",
       "dtype: object"
      ]
     },
     "execution_count": 13,
     "metadata": {},
     "output_type": "execute_result"
    }
   ],
   "source": [
    "df.dtypes"
   ]
  },
  {
   "cell_type": "code",
   "execution_count": 14,
   "metadata": {},
   "outputs": [
    {
     "name": "stdout",
     "output_type": "stream",
     "text": [
      "2\n",
      "0\n"
     ]
    }
   ],
   "source": [
    "print(df['Title'].isnull().sum())\r\n",
    "df['Title'] = df['Title'].fillna('No Title')\r\n",
    "print(df['Title'].isnull().sum())"
   ]
  },
  {
   "cell_type": "code",
   "execution_count": 15,
   "metadata": {},
   "outputs": [
    {
     "name": "stdout",
     "output_type": "stream",
     "text": [
      "0\n"
     ]
    }
   ],
   "source": [
    "convert_dict = {'Year':int}\r\n",
    "df['Year'] = df['Year'].fillna(0)\r\n",
    "df = df.astype(convert_dict)\r\n",
    "print(df['Year'].isnull().sum())\r\n"
   ]
  },
  {
   "cell_type": "code",
   "execution_count": 16,
   "metadata": {},
   "outputs": [
    {
     "name": "stdout",
     "output_type": "stream",
     "text": [
      "141594\n",
      "0\n"
     ]
    }
   ],
   "source": [
    "print(df['Released'].isnull().sum())\n",
    "df['Released'] = df['Released'].fillna('01-01-1800')\n",
    "print(df['Released'].isnull().sum())"
   ]
  },
  {
   "cell_type": "code",
   "execution_count": 17,
   "metadata": {},
   "outputs": [
    {
     "name": "stdout",
     "output_type": "stream",
     "text": [
      "70961\n",
      "0\n"
     ]
    }
   ],
   "source": [
    "print(df['Genre'].isnull().sum())\n",
    "df['Genre'] = df['Genre'].fillna('No Genre')\n",
    "print(df['Genre'].isnull().sum())"
   ]
  },
  {
   "cell_type": "code",
   "execution_count": 18,
   "metadata": {},
   "outputs": [
    {
     "name": "stdout",
     "output_type": "stream",
     "text": [
      "28001\n",
      "0\n"
     ]
    }
   ],
   "source": [
    "print(df['Director'].isnull().sum())\n",
    "df['Director'] = df['Director'].fillna('Director Not Mentioned')\n",
    "print(df['Director'].isnull().sum())"
   ]
  },
  {
   "cell_type": "code",
   "execution_count": 19,
   "metadata": {},
   "outputs": [
    {
     "name": "stdout",
     "output_type": "stream",
     "text": [
      "72903\n",
      "0\n"
     ]
    }
   ],
   "source": [
    "print(df['Actors'].isnull().sum())\n",
    "df['Actors'] = df['Actors'].fillna('Actors Not Mentioned')\n",
    "print(df['Actors'].isnull().sum())"
   ]
  },
  {
   "cell_type": "code",
   "execution_count": 20,
   "metadata": {},
   "outputs": [
    {
     "name": "stdout",
     "output_type": "stream",
     "text": [
      "40601\n",
      "0\n"
     ]
    }
   ],
   "source": [
    "print(df['Language'].isnull().sum())\n",
    "df['Language'] = df['Language'].fillna('No Language')\n",
    "print(df['Language'].isnull().sum())"
   ]
  },
  {
   "cell_type": "code",
   "execution_count": 21,
   "metadata": {},
   "outputs": [
    {
     "name": "stdout",
     "output_type": "stream",
     "text": [
      "16680\n",
      "0\n"
     ]
    }
   ],
   "source": [
    "print(df['Country'].isnull().sum())\n",
    "df['Country'] = df['Country'].fillna('No Country')\n",
    "print(df['Country'].isnull().sum())"
   ]
  },
  {
   "cell_type": "code",
   "execution_count": 22,
   "metadata": {},
   "outputs": [
    {
     "name": "stdout",
     "output_type": "stream",
     "text": [
      "209428\n",
      "0\n"
     ]
    }
   ],
   "source": [
    "print(df['Poster'].isnull().sum())\r\n",
    "df['Poster'] = df['Poster'].fillna('No Poster')\r\n",
    "print(df['Poster'].isnull().sum())"
   ]
  },
  {
   "cell_type": "code",
   "execution_count": 23,
   "metadata": {},
   "outputs": [
    {
     "name": "stdout",
     "output_type": "stream",
     "text": [
      "232323\n",
      "0\n"
     ]
    }
   ],
   "source": [
    "df['Rating'] = pd.to_numeric(df['Rating'],errors='coerce')\r\n",
    "print(df['Rating'].isnull().sum())\r\n",
    "df['Rating'] = df['Rating'].fillna(0.0)\r\n",
    "print(df['Rating'].isnull().sum())"
   ]
  },
  {
   "cell_type": "code",
   "execution_count": 24,
   "metadata": {},
   "outputs": [
    {
     "name": "stdout",
     "output_type": "stream",
     "text": [
      "232375\n",
      "260521\n",
      "0\n"
     ]
    }
   ],
   "source": [
    "print(df['Votes'].isnull().sum())\r\n",
    "df['Votes'] = pd.to_numeric(df['Votes'],errors='coerce')\r\n",
    "print(df['Votes'].isnull().sum())\r\n",
    "df['Votes'] = df['Votes'].fillna(0.0)\r\n",
    "print(df['Votes'].isnull().sum())"
   ]
  },
  {
   "cell_type": "code",
   "execution_count": 25,
   "metadata": {},
   "outputs": [
    {
     "name": "stdout",
     "output_type": "stream",
     "text": [
      "2\n",
      "0\n"
     ]
    }
   ],
   "source": [
    "print(df['IMDB ID'].isnull().sum())\r\n",
    "df['IMDB ID'] = df['IMDB ID'].fillna('No imdbID')\r\n",
    "print(df['IMDB ID'].isnull().sum())"
   ]
  },
  {
   "cell_type": "code",
   "execution_count": 26,
   "metadata": {},
   "outputs": [
    {
     "name": "stdout",
     "output_type": "stream",
     "text": [
      "423954\n",
      "0\n"
     ]
    }
   ],
   "source": [
    "print(df['BoxOffice'].isnull().sum())\r\n",
    "df['BoxOffice'] = df['BoxOffice'].fillna('No BoxOffice')\r\n",
    "print(df['BoxOffice'].isnull().sum())"
   ]
  },
  {
   "cell_type": "code",
   "execution_count": 27,
   "metadata": {},
   "outputs": [
    {
     "name": "stdout",
     "output_type": "stream",
     "text": [
      "401071\n",
      "0\n"
     ]
    }
   ],
   "source": [
    "print(df['Production'].isnull().sum())\r\n",
    "df['Production'] = df['Production'].fillna('No Production')\r\n",
    "print(df['Production'].isnull().sum())"
   ]
  },
  {
   "cell_type": "code",
   "execution_count": 28,
   "metadata": {},
   "outputs": [
    {
     "name": "stdout",
     "output_type": "stream",
     "text": [
      "141594\n",
      "0\n"
     ]
    }
   ],
   "source": [
    "# Month\r\n",
    "df['Month'] = pd.to_numeric(df['Month'],errors='coerce')\r\n",
    "print(df['Month'].isnull().sum())\r\n",
    "df['Month'] = df['Month'].fillna(0.0)\r\n",
    "print(df['Month'].isnull().sum())"
   ]
  },
  {
   "cell_type": "code",
   "execution_count": 29,
   "metadata": {},
   "outputs": [
    {
     "name": "stdout",
     "output_type": "stream",
     "text": [
      "141594\n",
      "141594\n"
     ]
    }
   ],
   "source": [
    "# MonthName\r\n",
    "print(df['Monthname'].isnull().sum())\r\n",
    "df['MonthName'] = df['Monthname'].fillna('No Month')\r\n",
    "print(df['Monthname'].isnull().sum())"
   ]
  },
  {
   "cell_type": "code",
   "execution_count": 30,
   "metadata": {},
   "outputs": [
    {
     "name": "stdout",
     "output_type": "stream",
     "text": [
      "141594\n",
      "0\n"
     ]
    }
   ],
   "source": [
    "# Day\r\n",
    "df['Day'] = pd.to_numeric(df['Day'],errors='coerce')\r\n",
    "print(df['Day'].isnull().sum())\r\n",
    "df['Day'] = df['Day'].fillna(0.0)\r\n",
    "print(df['Day'].isnull().sum())"
   ]
  },
  {
   "cell_type": "code",
   "execution_count": 31,
   "metadata": {},
   "outputs": [
    {
     "name": "stdout",
     "output_type": "stream",
     "text": [
      "141594\n",
      "0\n"
     ]
    }
   ],
   "source": [
    "# Weekday\r\n",
    "print(df['Weekday'].isnull().sum())\r\n",
    "df['Weekday'] = df['Weekday'].fillna('No Weekday')\r\n",
    "print(df['Weekday'].isnull().sum())"
   ]
  },
  {
   "cell_type": "code",
   "execution_count": 32,
   "metadata": {},
   "outputs": [
    {
     "name": "stdout",
     "output_type": "stream",
     "text": [
      "157235\n",
      "0\n"
     ]
    }
   ],
   "source": [
    "# df['Duration'] = df['Duration'].astype(int)\r\n",
    "df['Duration'] = pd.to_numeric(df['Duration'],errors='coerce')\r\n",
    "print(df['Duration'].isnull().sum())\r\n",
    "df['Duration'] = df['Duration'].fillna(0)\r\n",
    "print(df['Duration'].isnull().sum())\r\n",
    "df['Duration'] = df['Duration'].astype(int)"
   ]
  },
  {
   "cell_type": "code",
   "execution_count": 33,
   "metadata": {},
   "outputs": [],
   "source": [
    "df = df.drop(columns=['Monthname', 'Month'])"
   ]
  },
  {
   "cell_type": "code",
   "execution_count": 34,
   "metadata": {},
   "outputs": [
    {
     "data": {
      "text/plain": [
       "Title         0\n",
       "Year          0\n",
       "Released      0\n",
       "Genre         0\n",
       "Director      0\n",
       "Actors        0\n",
       "Language      0\n",
       "Country       0\n",
       "Poster        0\n",
       "Rating        0\n",
       "Votes         0\n",
       "IMDB ID       0\n",
       "BoxOffice     0\n",
       "Production    0\n",
       "Day           0\n",
       "Weekday       0\n",
       "Duration      0\n",
       "MonthName     0\n",
       "dtype: int64"
      ]
     },
     "execution_count": 34,
     "metadata": {},
     "output_type": "execute_result"
    }
   ],
   "source": [
    "df.isnull().sum()"
   ]
  },
  {
   "cell_type": "code",
   "execution_count": 35,
   "metadata": {},
   "outputs": [],
   "source": [
    "# Saving analysed file of omdb movies data\r\n",
    "df.to_csv(\"Data/analysed_omdb_movies_data.csv\",index=None)"
   ]
  },
  {
   "cell_type": "markdown",
   "metadata": {},
   "source": [
    "Analysis after getting tmdb and boxofficemojo data"
   ]
  },
  {
   "cell_type": "code",
   "execution_count": null,
   "metadata": {},
   "outputs": [],
   "source": [
    "analysedomdburl = 'https://media.githubusercontent.com/media/SpecializationDataScienceProject-2021/Movies_Datasets/main/Data/analysed_omdb_movies_data.csv'"
   ]
  },
  {
   "cell_type": "code",
   "execution_count": 36,
   "metadata": {},
   "outputs": [
    {
     "name": "stdout",
     "output_type": "stream",
     "text": [
      "(8240, 7)\n",
      "(8240, 2)\n"
     ]
    }
   ],
   "source": [
    "# Appending all the years files into single file\r\n",
    "path = r'C:/Users/madhu/Desktop/Final/Data/Years'\r\n",
    "all_files = glob.glob(path + \"/*.csv\")\r\n",
    "li = []\r\n",
    "\r\n",
    "for filename in all_files:\r\n",
    "    df1 = pd.read_csv(filename, index_col=None, header=0)\r\n",
    "    li.append(df1)\r\n",
    "\r\n",
    "df = pd.concat(li, axis=0, ignore_index=True)\r\n",
    "print(df.shape)\r\n",
    "df = df.drop_duplicates()\r\n",
    "df = df.rename(columns={'Release Group':\"Title\"})\r\n",
    "df = df.drop(columns = ['%','Foreign','%.1','Rank','Domestic'])\r\n",
    "print(df.shape)\r\n",
    "df.to_csv(\"Data/boxofficemojo_data.csv\",index=False)"
   ]
  },
  {
   "cell_type": "code",
   "execution_count": null,
   "metadata": {},
   "outputs": [],
   "source": [
    "tmdburl = 'https://raw.githubusercontent.com/SpecializationDataScienceProject-2021/Movies_Datasets/main/Data/tmdb_movies_data.csv'"
   ]
  },
  {
   "cell_type": "code",
   "execution_count": 37,
   "metadata": {},
   "outputs": [
    {
     "name": "stdout",
     "output_type": "stream",
     "text": [
      "(438120, 18)\n",
      "(435993, 18)\n",
      "414305\n",
      "(414305, 18)\n",
      "(8240, 2)\n",
      "(8240, 2)\n",
      "(414495, 5)\n",
      "(414495, 5)\n",
      "(415276, 19)\n"
     ]
    }
   ],
   "source": [
    "# Appending the omdb analysed data, tmdb data and boxoffice mojo data into a single file\r\n",
    "df1 = pd.read_csv(analysedomdburl)\r\n",
    "print(df1.shape)\r\n",
    "df2 = df1.drop_duplicates()\r\n",
    "print(df2.shape)\r\n",
    "print(df2[\"IMDB ID\"].nunique())\r\n",
    "df3 = df2.drop_duplicates(subset=[\"IMDB ID\"])\r\n",
    "print(df3.shape)\r\n",
    "df4 = pd.read_csv(\"Data/boxofficemojo_data.csv\")\r\n",
    "print(df4.shape)\r\n",
    "df5 = df4.drop_duplicates()\r\n",
    "print(df5.shape)\r\n",
    "df6 = pd.read_csv(tmdburl)\r\n",
    "print(df6.shape)\r\n",
    "df7 = df6.drop_duplicates()\r\n",
    "print(df7.shape)\r\n",
    "df = pd.DataFrame()\r\n",
    "df = df3.merge(df5, on='Title', how=\"left\")\r\n",
    "print(df.shape)\r\n",
    "df = df.merge(df7, on='IMDB ID', how=\"left\")"
   ]
  },
  {
   "cell_type": "code",
   "execution_count": 38,
   "metadata": {},
   "outputs": [],
   "source": [
    "warnings.filterwarnings('ignore')\r\n",
    "# getting the conversion value of usd to inr\r\n",
    "url = 'https://api.exchangerate-api.com/v4/latest/USD'\r\n",
    "data = requests.get(url).json()\r\n",
    "currencies = data['rates']\r\n",
    "indiancurrency = currencies['INR']\r\n",
    "\r\n",
    "df[\"BoxOffice\"] = df[\"BoxOffice\"].str.replace(r'\\D', '')\r\n",
    "df['BoxOffice'] = df['BoxOffice'].replace(np.NaN, 0)\r\n",
    "df[\"Worldwide\"] = df[\"Worldwide\"].str.replace(r'\\D', '')\r\n",
    "df['Worldwide'] = df['Worldwide'].replace(np.NaN, 0)\r\n",
    "df[\"BoxOffice\"] = pd.to_numeric(df['BoxOffice'],errors='coerce')\r\n",
    "df[\"Worldwide\"] = pd.to_numeric(df['Worldwide'],errors='coerce')\r\n",
    "\r\n",
    "#Inflation is done here\r\n",
    "df[\"Budget\"] = df[\"Budget\"] *indiancurrency\r\n",
    "df[\"Collections\"] = (df['BoxOffice']*indiancurrency)+(df['Revenue']*indiancurrency)+(df['Worldwide']*indiancurrency)\r\n",
    "df = df.drop(columns=['BoxOffice','Revenue','Worldwide'])\r\n",
    "df = df.drop_duplicates(subset=['IMDB ID'])\r\n"
   ]
  },
  {
   "cell_type": "code",
   "execution_count": 39,
   "metadata": {},
   "outputs": [],
   "source": [
    "df = df.drop(columns=['Certificate'])"
   ]
  },
  {
   "cell_type": "code",
   "execution_count": 40,
   "metadata": {},
   "outputs": [],
   "source": [
    "df['Profit'] = df['Collections'] - df['Budget']"
   ]
  },
  {
   "cell_type": "code",
   "execution_count": 41,
   "metadata": {},
   "outputs": [],
   "source": [
    " # Budget\r\n",
    "df['Budget'] = df['Budget'].fillna(0.0)\r\n",
    "\r\n",
    "# Popularity\r\n",
    "df['Popularity'] = df['Popularity'].fillna(0.0)\r\n",
    "\r\n",
    "# Collections\r\n",
    "df['Collections'] = df['Collections'].fillna(0.0)\r\n",
    "\r\n",
    "# Profit\r\n",
    "df['Profit'] = df['Profit'].fillna(0.0)"
   ]
  },
  {
   "cell_type": "code",
   "execution_count": 42,
   "metadata": {},
   "outputs": [
    {
     "data": {
      "text/plain": [
       "Title          0\n",
       "Year           0\n",
       "Released       0\n",
       "Genre          0\n",
       "Director       0\n",
       "Actors         0\n",
       "Language       0\n",
       "Country        0\n",
       "Poster         0\n",
       "Rating         0\n",
       "Votes          0\n",
       "IMDB ID        0\n",
       "Production     0\n",
       "Day            0\n",
       "Weekday        0\n",
       "Duration       0\n",
       "MonthName      0\n",
       "Budget         0\n",
       "Popularity     0\n",
       "Collections    0\n",
       "Profit         0\n",
       "dtype: int64"
      ]
     },
     "execution_count": 42,
     "metadata": {},
     "output_type": "execute_result"
    }
   ],
   "source": [
    "df.isnull().sum()"
   ]
  },
  {
   "cell_type": "code",
   "execution_count": 43,
   "metadata": {},
   "outputs": [],
   "source": [
    "# the final data is here\r\n",
    "df.to_csv(\"Data/movies_data.csv\",index=False) "
   ]
  },
  {
   "cell_type": "code",
   "execution_count": null,
   "metadata": {},
   "outputs": [],
   "source": [
    "moviesdataurl = 'https://media.githubusercontent.com/media/SpecializationDataScienceProject-2021/Movies_Datasets/main/Data/movies_data.csv'"
   ]
  },
  {
   "cell_type": "markdown",
   "metadata": {},
   "source": [
    "Data Wrangling"
   ]
  },
  {
   "cell_type": "code",
   "execution_count": 44,
   "metadata": {},
   "outputs": [
    {
     "name": "stdout",
     "output_type": "stream",
     "text": [
      "<class 'pandas.core.frame.DataFrame'>\n",
      "RangeIndex: 414305 entries, 0 to 414304\n",
      "Data columns (total 21 columns):\n",
      " #   Column       Non-Null Count   Dtype  \n",
      "---  ------       --------------   -----  \n",
      " 0   Title        414305 non-null  object \n",
      " 1   Year         414305 non-null  int64  \n",
      " 2   Released     414305 non-null  object \n",
      " 3   Genre        414305 non-null  object \n",
      " 4   Director     414305 non-null  object \n",
      " 5   Actors       414305 non-null  object \n",
      " 6   Language     414305 non-null  object \n",
      " 7   Country      414305 non-null  object \n",
      " 8   Poster       414305 non-null  object \n",
      " 9   Rating       414305 non-null  float64\n",
      " 10  Votes        414305 non-null  float64\n",
      " 11  IMDB ID      414305 non-null  object \n",
      " 12  Production   414305 non-null  object \n",
      " 13  Day          414305 non-null  float64\n",
      " 14  Weekday      414305 non-null  object \n",
      " 15  Duration     414305 non-null  int64  \n",
      " 16  MonthName    414305 non-null  object \n",
      " 17  Budget       414305 non-null  float64\n",
      " 18  Popularity   414305 non-null  float64\n",
      " 19  Collections  414305 non-null  float64\n",
      " 20  Profit       414305 non-null  float64\n",
      "dtypes: float64(7), int64(2), object(12)\n",
      "memory usage: 66.4+ MB\n"
     ]
    }
   ],
   "source": [
    "movies_data = pd.read_csv(moviesdataurl, low_memory=False)\r\n",
    "movies_data.info()"
   ]
  },
  {
   "cell_type": "code",
   "execution_count": 45,
   "metadata": {},
   "outputs": [
    {
     "data": {
      "text/html": [
       "<div>\n",
       "<style scoped>\n",
       "    .dataframe tbody tr th:only-of-type {\n",
       "        vertical-align: middle;\n",
       "    }\n",
       "\n",
       "    .dataframe tbody tr th {\n",
       "        vertical-align: top;\n",
       "    }\n",
       "\n",
       "    .dataframe thead th {\n",
       "        text-align: right;\n",
       "    }\n",
       "</style>\n",
       "<table border=\"1\" class=\"dataframe\">\n",
       "  <thead>\n",
       "    <tr style=\"text-align: right;\">\n",
       "      <th></th>\n",
       "      <th>Year</th>\n",
       "      <th>Rating</th>\n",
       "      <th>Votes</th>\n",
       "      <th>Day</th>\n",
       "      <th>Duration</th>\n",
       "      <th>Budget</th>\n",
       "      <th>Popularity</th>\n",
       "      <th>Collections</th>\n",
       "      <th>Profit</th>\n",
       "    </tr>\n",
       "  </thead>\n",
       "  <tbody>\n",
       "    <tr>\n",
       "      <th>count</th>\n",
       "      <td>414305.000000</td>\n",
       "      <td>414305.000000</td>\n",
       "      <td>414305.000000</td>\n",
       "      <td>414305.000000</td>\n",
       "      <td>414305.000000</td>\n",
       "      <td>4.143050e+05</td>\n",
       "      <td>414305.000000</td>\n",
       "      <td>4.143050e+05</td>\n",
       "      <td>4.143050e+05</td>\n",
       "    </tr>\n",
       "    <tr>\n",
       "      <th>mean</th>\n",
       "      <td>1989.181726</td>\n",
       "      <td>2.855588</td>\n",
       "      <td>50.670762</td>\n",
       "      <td>9.316624</td>\n",
       "      <td>56.615945</td>\n",
       "      <td>2.121035e+09</td>\n",
       "      <td>0.909998</td>\n",
       "      <td>5.318431e+09</td>\n",
       "      <td>3.581156e+09</td>\n",
       "    </tr>\n",
       "    <tr>\n",
       "      <th>std</th>\n",
       "      <td>37.244314</td>\n",
       "      <td>3.185304</td>\n",
       "      <td>138.233716</td>\n",
       "      <td>10.159833</td>\n",
       "      <td>47.763874</td>\n",
       "      <td>3.070360e+10</td>\n",
       "      <td>11.419470</td>\n",
       "      <td>1.099154e+11</td>\n",
       "      <td>8.920267e+10</td>\n",
       "    </tr>\n",
       "    <tr>\n",
       "      <th>min</th>\n",
       "      <td>0.000000</td>\n",
       "      <td>0.000000</td>\n",
       "      <td>0.000000</td>\n",
       "      <td>0.000000</td>\n",
       "      <td>0.000000</td>\n",
       "      <td>0.000000e+00</td>\n",
       "      <td>0.000000</td>\n",
       "      <td>0.000000e+00</td>\n",
       "      <td>-8.643676e+11</td>\n",
       "    </tr>\n",
       "    <tr>\n",
       "      <th>25%</th>\n",
       "      <td>1970.000000</td>\n",
       "      <td>0.000000</td>\n",
       "      <td>0.000000</td>\n",
       "      <td>0.000000</td>\n",
       "      <td>0.000000</td>\n",
       "      <td>0.000000e+00</td>\n",
       "      <td>0.000000</td>\n",
       "      <td>0.000000e+00</td>\n",
       "      <td>0.000000e+00</td>\n",
       "    </tr>\n",
       "    <tr>\n",
       "      <th>50%</th>\n",
       "      <td>2004.000000</td>\n",
       "      <td>0.000000</td>\n",
       "      <td>0.000000</td>\n",
       "      <td>5.000000</td>\n",
       "      <td>70.000000</td>\n",
       "      <td>0.000000e+00</td>\n",
       "      <td>0.000000</td>\n",
       "      <td>0.000000e+00</td>\n",
       "      <td>0.000000e+00</td>\n",
       "    </tr>\n",
       "    <tr>\n",
       "      <th>75%</th>\n",
       "      <td>2014.000000</td>\n",
       "      <td>6.200000</td>\n",
       "      <td>22.000000</td>\n",
       "      <td>18.000000</td>\n",
       "      <td>92.000000</td>\n",
       "      <td>0.000000e+00</td>\n",
       "      <td>0.600000</td>\n",
       "      <td>0.000000e+00</td>\n",
       "      <td>0.000000e+00</td>\n",
       "    </tr>\n",
       "    <tr>\n",
       "      <th>max</th>\n",
       "      <td>2028.000000</td>\n",
       "      <td>10.000000</td>\n",
       "      <td>999.000000</td>\n",
       "      <td>31.000000</td>\n",
       "      <td>950.000000</td>\n",
       "      <td>5.369221e+12</td>\n",
       "      <td>4006.705000</td>\n",
       "      <td>1.529375e+13</td>\n",
       "      <td>1.395697e+13</td>\n",
       "    </tr>\n",
       "  </tbody>\n",
       "</table>\n",
       "</div>"
      ],
      "text/plain": [
       "                Year         Rating          Votes            Day  \\\n",
       "count  414305.000000  414305.000000  414305.000000  414305.000000   \n",
       "mean     1989.181726       2.855588      50.670762       9.316624   \n",
       "std        37.244314       3.185304     138.233716      10.159833   \n",
       "min         0.000000       0.000000       0.000000       0.000000   \n",
       "25%      1970.000000       0.000000       0.000000       0.000000   \n",
       "50%      2004.000000       0.000000       0.000000       5.000000   \n",
       "75%      2014.000000       6.200000      22.000000      18.000000   \n",
       "max      2028.000000      10.000000     999.000000      31.000000   \n",
       "\n",
       "            Duration        Budget     Popularity   Collections        Profit  \n",
       "count  414305.000000  4.143050e+05  414305.000000  4.143050e+05  4.143050e+05  \n",
       "mean       56.615945  2.121035e+09       0.909998  5.318431e+09  3.581156e+09  \n",
       "std        47.763874  3.070360e+10      11.419470  1.099154e+11  8.920267e+10  \n",
       "min         0.000000  0.000000e+00       0.000000  0.000000e+00 -8.643676e+11  \n",
       "25%         0.000000  0.000000e+00       0.000000  0.000000e+00  0.000000e+00  \n",
       "50%        70.000000  0.000000e+00       0.000000  0.000000e+00  0.000000e+00  \n",
       "75%        92.000000  0.000000e+00       0.600000  0.000000e+00  0.000000e+00  \n",
       "max       950.000000  5.369221e+12    4006.705000  1.529375e+13  1.395697e+13  "
      ]
     },
     "execution_count": 45,
     "metadata": {},
     "output_type": "execute_result"
    }
   ],
   "source": [
    "movies_data.describe()"
   ]
  },
  {
   "cell_type": "code",
   "execution_count": null,
   "metadata": {},
   "outputs": [],
   "source": []
  }
 ],
 "metadata": {
  "interpreter": {
   "hash": "9f732bf2f1584e2b91c869ae689782b48698a078eb0caa539c1da4908ee28e8a"
  },
  "kernelspec": {
   "display_name": "Python 3.9.2 64-bit",
   "name": "python3"
  },
  "language_info": {
   "name": "python",
   "version": ""
  },
  "orig_nbformat": 3
 },
 "nbformat": 4,
 "nbformat_minor": 2
}